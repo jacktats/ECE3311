{
 "cells": [
  {
   "cell_type": "code",
   "execution_count": 1,
   "metadata": {},
   "outputs": [],
   "source": [
    "import numpy as np\n",
    "import matplotlib.pyplot as plt"
   ]
  },
  {
   "cell_type": "code",
   "execution_count": 8,
   "metadata": {},
   "outputs": [
    {
     "name": "stdout",
     "output_type": "stream",
     "text": [
      "<class 'int'>\n",
      "<class 'str'>\n",
      "<class 'str'>\n",
      "My kid is 21 months old today!\n",
      "<class 'str'>\n"
     ]
    }
   ],
   "source": [
    "x=21\n",
    "print(type(x))\n",
    "n=str(x)\n",
    "y=\"My kid is \"\n",
    "print(type(y))\n",
    "z=\" months old today!\"\n",
    "print(type(z))\n",
    "a=y + n + z\n",
    "print(a)\n",
    "print(type(a))"
   ]
  },
  {
   "cell_type": "markdown",
   "metadata": {},
   "source": [
    "A list and a tuple are both ordered arrays of values, but the difference is that a list is mutable, meaning that the individual elements within the array can be modified, while a tuple is immutable, meaning that once defined, cannot be modified. We hvae both of these organization & storage structures because a tu0ple is much faster than a list, and will essentially make your code quicker and safer (unmodifiable) if your values are meant to be unchanged throught its use."
   ]
  },
  {
   "cell_type": "code",
   "execution_count": 15,
   "metadata": {},
   "outputs": [
    {
     "name": "stdout",
     "output_type": "stream",
     "text": [
      "Stranger Things Season 3 was totally awesome!\n",
      "Stranger Things Season 3 was totally awesome!\n",
      "Stranger Things Season 3 was totally awesome!\n",
      "I cannot wait for Stranger Things Season 4.\n"
     ]
    }
   ],
   "source": [
    "for i in range(3):\n",
    "    q=\"Stranger Things Season 3 was totally awesome!\"\n",
    "    print(q)\n",
    "\n",
    "s=\"I cannot wait for Stranger Things Season 4.\"\n",
    "print(s)"
   ]
  },
  {
   "cell_type": "code",
   "execution_count": 16,
   "metadata": {},
   "outputs": [
    {
     "name": "stdout",
     "output_type": "stream",
     "text": [
      "Stranger Things Season 3 was totally awesome!\n",
      "Stranger Things Season 3 was totally awesome!\n",
      "Stranger Things Season 3 was totally awesome!\n",
      "I cannot wait for Stranger Things Season 4.\n",
      "I cannot wait for Stranger Things Season 4.\n",
      "I cannot wait for Stranger Things Season 4.\n"
     ]
    }
   ],
   "source": [
    "for i in range(3):\n",
    "    q=\"Stranger Things Season 3 was totally awesome!\"\n",
    "    print(q)\n",
    "\n",
    "for i in range(3):\n",
    "    s=\"I cannot wait for Stranger Things Season 4.\"\n",
    "    print(s)"
   ]
  },
  {
   "cell_type": "code",
   "execution_count": 18,
   "metadata": {},
   "outputs": [
    {
     "name": "stdout",
     "output_type": "stream",
     "text": [
      "-4\n",
      "-3\n",
      "-2\n",
      "-1\n",
      "0\n",
      "1\n",
      "2\n",
      "3\n",
      "4\n"
     ]
    }
   ],
   "source": [
    "def func1(i):\n",
    "    return (i-4)\n",
    "\n",
    "for i in range(9):\n",
    "    print(func1(i))"
   ]
  },
  {
   "cell_type": "code",
   "execution_count": 26,
   "metadata": {},
   "outputs": [
    {
     "name": "stdout",
     "output_type": "stream",
     "text": [
      "10\n",
      "9\n",
      "27\n"
     ]
    }
   ],
   "source": [
    "class Foo2:\n",
    "    def __init__(foo_py, value):\n",
    "        foo_py.value = value\n",
    "\n",
    "    def subtract_one (foo_py):\n",
    "        foo_py.value = foo_py.value-1\n",
    "        \n",
    "\n",
    "    def multiply_three (foo_py):\n",
    "        foo_py.value = foo_py.value*3\n",
    "        \n",
    "\n",
    "foo2 = Foo2(10)\n",
    "print(foo2.value)\n",
    "foo2.subtract_one()\n",
    "print(foo2.value)\n",
    "foo2.multiply_three()\n",
    "print(foo2.value)\n",
    "\n"
   ]
  }
 ],
 "metadata": {
  "interpreter": {
   "hash": "916dbcbb3f70747c44a77c7bcd40155683ae19c65e1c03b4aa3499c5328201f1"
  },
  "kernelspec": {
   "display_name": "Python 3.8.10 64-bit",
   "name": "python3"
  },
  "language_info": {
   "codemirror_mode": {
    "name": "ipython",
    "version": 3
   },
   "file_extension": ".py",
   "mimetype": "text/x-python",
   "name": "python",
   "nbconvert_exporter": "python",
   "pygments_lexer": "ipython3",
   "version": "3.8.10"
  },
  "orig_nbformat": 4
 },
 "nbformat": 4,
 "nbformat_minor": 2
}
